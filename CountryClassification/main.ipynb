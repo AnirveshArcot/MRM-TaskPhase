{
 "cells": [
  {
   "cell_type": "code",
   "execution_count": 156,
   "metadata": {},
   "outputs": [],
   "source": [
    "import pandas as pd\n",
    "import numpy as np\n",
    "import seaborn as sns\n",
    "import matplotlib.pyplot as plt\n",
    "from sklearn.preprocessing import StandardScaler\n",
    "import numpy as np\n",
    "from sklearn.metrics import silhouette_score"
   ]
  },
  {
   "cell_type": "code",
   "execution_count": 157,
   "metadata": {},
   "outputs": [],
   "source": [
    "readfile=pd.read_csv(\"Country-data.csv\",index_col=False)\n",
    "file=pd.DataFrame(readfile)"
   ]
  },
  {
   "cell_type": "code",
   "execution_count": 158,
   "metadata": {},
   "outputs": [],
   "source": [
    "df=file.copy()\n",
    "df.drop(columns=['country'], inplace=True)"
   ]
  },
  {
   "cell_type": "code",
   "execution_count": 159,
   "metadata": {},
   "outputs": [],
   "source": [
    "scaler = StandardScaler()\n",
    "data = scaler.fit_transform(df)\n"
   ]
  },
  {
   "cell_type": "code",
   "execution_count": 160,
   "metadata": {},
   "outputs": [],
   "source": [
    "class PCA():\n",
    "    def __init__(self, variance):\n",
    "        self.variance = variance\n",
    "\n",
    "    def convert(self, data):\n",
    "        cov_matrix = np.cov(data.T)\n",
    "        eigenvalues, eigenvectors = np.linalg.eig(cov_matrix)\n",
    "\n",
    "        sorted_indices = np.argsort(eigenvalues)[::-1]\n",
    "        eigenvalues = eigenvalues[sorted_indices]\n",
    "        eigenvectors = eigenvectors[:, sorted_indices]\n",
    "\n",
    "        total_sum = np.sum(eigenvalues)\n",
    "\n",
    "        cumulative_sum = 0\n",
    "        percentages = []\n",
    "        for percentage in (eigenvalues / total_sum * 100):\n",
    "            cumulative_sum += percentage\n",
    "            percentages.append(cumulative_sum)\n",
    "            if cumulative_sum >= self.variance :\n",
    "                break\n",
    "\n",
    "        num_components = len(percentages)\n",
    "        print(num_components)\n",
    "\n",
    "        principal_components = eigenvectors[:, :num_components]\n",
    "\n",
    "        reduced_data = np.dot(data, principal_components)\n",
    "        plt.bar(np.arange(1, len(percentages) + 1), percentages, align='center', alpha=0.8)\n",
    "        plt.xlabel('Number of Principal Components')\n",
    "        plt.ylabel('Cumulative Percentage of Variance Explained')\n",
    "        plt.title('Scree Plot (Bar Graph)')\n",
    "        plt.show()\n",
    "\n",
    "        return reduced_data"
   ]
  },
  {
   "cell_type": "code",
   "execution_count": 161,
   "metadata": {},
   "outputs": [],
   "source": [
    "reducer = PCA(95)"
   ]
  },
  {
   "cell_type": "code",
   "execution_count": 162,
   "metadata": {},
   "outputs": [
    {
     "name": "stdout",
     "output_type": "stream",
     "text": [
      "6\n"
     ]
    },
    {
     "data": {
      "image/png": "[encoded data removed]",
      "text/plain": [
       "<Figure size 640x480 with 1 Axes>"
      ]
     },
     "metadata": {},
     "output_type": "display_data"
    }
   ],
   "source": [
    "reduced_data=reducer.convert(data)"
   ]
  },
  {
   "cell_type": "code",
   "execution_count": 163,
   "metadata": {},
   "outputs": [],
   "source": [
    "class KMeans:\n",
    "    def __init__(self, k=3, max_iters=10000, tol=1e-4):\n",
    "        self.k = k\n",
    "        self.max_iters = max_iters\n",
    "        self.tol = tol\n",
    "        self.centroids = None\n",
    "        self.labels = None\n",
    "\n",
    "    def kmeans_plusplus_init(self, X):\n",
    "        self.centroids = [X[np.random.choice(X.shape[0])]]\n",
    "\n",
    "        for _ in range(1, self.k):\n",
    "            dist_sq = np.array([min([np.linalg.norm(c - x)**2 for c in self.centroids]) for x in X])\n",
    "            probs = dist_sq / dist_sq.sum()\n",
    "            cumprobs = probs.cumsum()\n",
    "            r = np.random.rand()\n",
    "            for j, p in enumerate(cumprobs):\n",
    "                if r < p:\n",
    "                    i = j\n",
    "                    break\n",
    "            self.centroids.append(X[i])\n",
    "\n",
    "        self.centroids = np.array(self.centroids)\n",
    "\n",
    "    def classify(self, X):\n",
    "        self.kmeans_plusplus_init(X)\n",
    "\n",
    "        for iter in range(self.max_iters):\n",
    "            \n",
    "            self.labels = np.argmin(np.linalg.norm(X[:, np.newaxis] - self.centroids, axis=2), axis=1)\n",
    "            \n",
    "            new_centroids = np.array([X[self.labels == j].mean(axis=0) for j in range(self.k)])\n",
    "\n",
    "            if np.linalg.norm(new_centroids - self.centroids) < self.tol:\n",
    "                break\n",
    "\n",
    "            self.centroids = new_centroids\n",
    "\n",
    "        return self.labels\n",
    "\n",
    "    def silhouette_score(self, X):\n",
    "        if self.labels is None:\n",
    "            raise ValueError(\"KMeans has not been fitted. Call the classify method first.\")\n",
    "        return silhouette_score(X, self.labels)\n",
    "    \n",
    "    def inertia(self, X):\n",
    "        if self.centroids is None:\n",
    "            raise ValueError(\"Centroids not initialized. Call classify() or kmeans_plusplus_init() first.\")\n",
    "\n",
    "        distances = np.array([np.linalg.norm(X[i] - self.centroids[self.labels[i]])**2 for i in range(len(X))])\n",
    "        return np.sum(distances)"
   ]
  },
  {
   "cell_type": "code",
   "execution_count": 164,
   "metadata": {},
   "outputs": [
    {
     "name": "stdout",
     "output_type": "stream",
     "text": [
      "0.2993048365115851\n",
      "786.8230037289771\n"
     ]
    }
   ],
   "source": [
    "model_PCA=KMeans()\n",
    "labels_PCA=model_PCA.classify(reduced_data)\n",
    "print(model_PCA.silhouette_score(reduced_data))\n",
    "print(model_PCA.inertia(reduced_data))"
   ]
  },
  {
   "cell_type": "code",
   "execution_count": 165,
   "metadata": {},
   "outputs": [
    {
     "name": "stdout",
     "output_type": "stream",
     "text": [
      "0.7106457354531156\n",
      "22336241763.973698\n"
     ]
    }
   ],
   "source": [
    "model_raw=KMeans()\n",
    "labels_raw=model_raw.classify(df.values)\n",
    "print(model_raw.silhouette_score(df.values))\n",
    "print(model_raw.inertia(df.values))"
   ]
  },
  {
   "cell_type": "code",
   "execution_count": 166,
   "metadata": {},
   "outputs": [],
   "source": [
    "df['label']=labels_PCA\n",
    "cluster_mean = df.groupby('label')['child_mort'].mean()\n",
    "ordered_clusters = cluster_mean.sort_values().index\n",
    "label_mapping = {label: category for label, category in zip(ordered_clusters, ['Developed', 'Developing', 'Underdeveloped'])}\n",
    "df['class']= file['class'] = df['label'].map(label_mapping)\n"
   ]
  },
  {
   "cell_type": "code",
   "execution_count": 167,
   "metadata": {},
   "outputs": [
    {
     "data": {
      "image/png": "[encoded data removed]",
      "text/plain": [
       "<Figure size 640x480 with 1 Axes>"
      ]
     },
     "metadata": {},
     "output_type": "display_data"
    }
   ],
   "source": [
    "cluster_mean = df.groupby(by = 'class').mean()\n",
    "cluster_mean[['child_mort','income','inflation','gdpp']].plot.bar()\n",
    "plt.yscale('log')\n",
    "plt.show()"
   ]
  },
  {
   "cell_type": "code",
   "execution_count": 168,
   "metadata": {},
   "outputs": [
    {
     "name": "stdout",
     "output_type": "stream",
     "text": [
      "Countries in Cluster Developed:\n",
      "['Australia' 'Austria' 'Bahrain' 'Belgium' 'Brunei' 'Canada' 'Cyprus'\n",
      " 'Czech Republic' 'Denmark' 'Finland' 'France' 'Germany' 'Greece'\n",
      " 'Iceland' 'Ireland' 'Israel' 'Italy' 'Japan' 'Kuwait' 'Luxembourg'\n",
      " 'Malta' 'Netherlands' 'New Zealand' 'Norway' 'Portugal' 'Qatar'\n",
      " 'Singapore' 'Slovak Republic' 'Slovenia' 'South Korea' 'Spain' 'Sweden'\n",
      " 'Switzerland' 'United Arab Emirates' 'United Kingdom' 'United States']\n",
      "Countries in Cluster Developing:\n",
      "['Albania' 'Algeria' 'Antigua and Barbuda' 'Argentina' 'Armenia'\n",
      " 'Azerbaijan' 'Bahamas' 'Bangladesh' 'Barbados' 'Belarus' 'Belize'\n",
      " 'Bhutan' 'Bolivia' 'Bosnia and Herzegovina' 'Botswana' 'Brazil'\n",
      " 'Bulgaria' 'Cambodia' 'Cape Verde' 'Chile' 'China' 'Colombia'\n",
      " 'Costa Rica' 'Croatia' 'Dominican Republic' 'Ecuador' 'Egypt'\n",
      " 'El Salvador' 'Estonia' 'Fiji' 'Georgia' 'Grenada' 'Guatemala' 'Guyana'\n",
      " 'Hungary' 'India' 'Indonesia' 'Iran' 'Iraq' 'Jamaica' 'Jordan'\n",
      " 'Kazakhstan' 'Kyrgyz Republic' 'Latvia' 'Lebanon' 'Libya' 'Lithuania'\n",
      " 'Macedonia, FYR' 'Malaysia' 'Maldives' 'Mauritius'\n",
      " 'Micronesia, Fed. Sts.' 'Moldova' 'Mongolia' 'Montenegro' 'Morocco'\n",
      " 'Myanmar' 'Nepal' 'Oman' 'Panama' 'Paraguay' 'Peru' 'Philippines'\n",
      " 'Poland' 'Romania' 'Russia' 'Samoa' 'Saudi Arabia' 'Serbia' 'Seychelles'\n",
      " 'Solomon Islands' 'Sri Lanka' 'St. Vincent and the Grenadines' 'Suriname'\n",
      " 'Tajikistan' 'Thailand' 'Tonga' 'Tunisia' 'Turkey' 'Turkmenistan'\n",
      " 'Ukraine' 'Uruguay' 'Uzbekistan' 'Vanuatu' 'Venezuela' 'Vietnam']\n",
      "Countries in Cluster Underdeveloped:\n",
      "['Afghanistan' 'Angola' 'Benin' 'Burkina Faso' 'Burundi' 'Cameroon'\n",
      " 'Central African Republic' 'Chad' 'Comoros' 'Congo, Dem. Rep.'\n",
      " 'Congo, Rep.' \"Cote d'Ivoire\" 'Equatorial Guinea' 'Eritrea' 'Gabon'\n",
      " 'Gambia' 'Ghana' 'Guinea' 'Guinea-Bissau' 'Haiti' 'Kenya' 'Kiribati'\n",
      " 'Lao' 'Lesotho' 'Liberia' 'Madagascar' 'Malawi' 'Mali' 'Mauritania'\n",
      " 'Mozambique' 'Namibia' 'Niger' 'Nigeria' 'Pakistan' 'Rwanda' 'Senegal'\n",
      " 'Sierra Leone' 'South Africa' 'Sudan' 'Tanzania' 'Timor-Leste' 'Togo'\n",
      " 'Uganda' 'Yemen' 'Zambia']\n"
     ]
    }
   ],
   "source": [
    "cluster = file.groupby('class')\n",
    "for label, cluster in cluster:\n",
    "    print(f\"Countries in Cluster {label}:\")\n",
    "    print(cluster['country'].values)"
   ]
  }
 ],
 "metadata": {
  "kernelspec": {
   "display_name": "Python 3",
   "language": "python",
   "name": "python3"
  },
  "language_info": {
   "codemirror_mode": {
    "name": "ipython",
    "version": 3
   },
   "file_extension": ".py",
   "mimetype": "text/x-python",
   "name": "python",
   "nbconvert_exporter": "python",
   "pygments_lexer": "ipython3",
   "version": "3.11.3"
  }
 },
 "nbformat": 4,
 "nbformat_minor": 2
}
