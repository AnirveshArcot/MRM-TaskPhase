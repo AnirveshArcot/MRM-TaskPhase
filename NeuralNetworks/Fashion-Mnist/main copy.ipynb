{
 "cells": [
  {
   "cell_type": "code",
   "execution_count": 17,
   "metadata": {},
   "outputs": [],
   "source": [
    "import numpy as np\n",
    "import pandas as pd\n",
    "from sklearn.preprocessing import StandardScaler\n",
    "import matplotlib.pyplot as plt"
   ]
  },
  {
   "cell_type": "code",
   "execution_count": 18,
   "metadata": {},
   "outputs": [],
   "source": [
    "df1 = pd.read_csv('fashion-mnist_train.csv')\n",
    "df2=pd.read_csv('fashion-mnist_test.csv')"
   ]
  },
  {
   "cell_type": "code",
   "execution_count": 19,
   "metadata": {},
   "outputs": [],
   "source": [
    "y_train = df1.iloc[0:, 0].values.reshape(-1, 1) #starting from 1st row because csv first row is column names\n",
    "y_test = df2.iloc[0:, 0].values.reshape(-1, 1)"
   ]
  },
  {
   "cell_type": "code",
   "execution_count": 20,
   "metadata": {},
   "outputs": [],
   "source": [
    "X_train = df1.iloc[0:, 1:].values.T\n",
    "X_train = X_train.astype(float) / 255.0\n",
    "\n",
    "X_test = df2.iloc[0:, 1:].values.T\n",
    "X_test = X_test.astype(float) / 255.0"
   ]
  },
  {
   "cell_type": "code",
   "execution_count": 21,
   "metadata": {},
   "outputs": [],
   "source": [
    "class NeuralNetwork:\n",
    "    def __init__(self, input_size, hidden_size, output_size):\n",
    "        # For Hidden Neurons\n",
    "        self.w1 = np.random.randn(hidden_size, input_size)*0.01\n",
    "        self.b1 = np.zeros((hidden_size, 1))\n",
    "\n",
    "        # For Output Neurons\n",
    "        self.w2 = np.random.randn(output_size, hidden_size)*0.01\n",
    "        self.b2 = np.zeros((output_size, 1))\n",
    "\n",
    "\n",
    "    def one_hot(self,Y):\n",
    "        \n",
    "        one_hot_Y = np.eye(10)[Y.flatten()]\n",
    "        one_hot_Y=one_hot_Y.T\n",
    "        return one_hot_Y\n",
    "\n",
    "\n",
    "    def activation(self,x,alpha=00.1): #tanh\n",
    "        # return np.tanh(x)\n",
    "        return np.maximum(0, x)\n",
    "        # return np.maximum(alpha * x, x)\n",
    "    \n",
    "    def activation_deriv(self,x,alpha=00.1):\n",
    "        # tanh_x = self.activation(x)\n",
    "        # return 1 - tanh_x**2\n",
    "\n",
    "        return x>0\n",
    "        \n",
    "        # dx = np.ones_like(x)\n",
    "        # dx[x < 0] = alpha\n",
    "        # return dx\n",
    "        \n",
    "\n",
    "    def softmax(self, x):\n",
    "        ex = np.exp(x)  \n",
    "        return ex / np.sum(ex, axis=0)\n",
    "        \n",
    "    \n",
    "    def forward(self, X):\n",
    "        # Forward pass\n",
    "        self.z1 = np.dot(self.w1, X) + self.b1 #Z corresponds to pre activation value\n",
    "        self.a1 = self.activation(self.z1) #a corresponds to activation value\n",
    "\n",
    "        self.z2 = np.dot(self.w2,self.a1 ) + self.b2 #Z corresponds to pre activation value\n",
    "\n",
    "        self.a2 = self.softmax(self.z2)#a corresponds to activation value\n",
    "        return self.a2\n",
    "\n",
    "    def compute_loss(self, y, y_pred):\n",
    "        m = y.shape[1]\n",
    "        cost = -(1/m)*np.sum(y*np.log(y_pred))\n",
    "        return cost\n",
    "\n",
    "    def backward(self, X, y_true, learning_rate):\n",
    "\n",
    "        m = X.shape[1]\n",
    "\n",
    "        self.dz2 = (self.a2 - y_true) #derivative of soft max \n",
    "        self.dw2 = (1/m)*np.dot(self.dz2,self.a1.T )\n",
    "        self.db2 = (1/m)*np.sum(self.dz2,axis=1,keepdims=True)\n",
    "\n",
    "\n",
    "        self.dz1 = (1/m) * np.dot(self.w2.T, self.dz2) * self.activation_deriv(self.z1) #derivative of activation\n",
    "        self.dw1 = (1/m)*np.dot(self.dz1,X.T )\n",
    "        self.db1 = (1/m)*np.sum(self.dz1,axis=1,keepdims=True)\n",
    "\n",
    "        self.w2 = self.w2 - learning_rate*self.dw2\n",
    "        self.b2 = self.b2 - learning_rate*self.db2\n",
    "        \n",
    "\n",
    "        self.w1 = self.w1 - learning_rate*self.dw1\n",
    "        self.b1 = self.b1 - learning_rate*self.db1\n",
    "\n",
    "\n",
    " \n",
    "    def train(self, X, y, epochs, learning_rate):\n",
    "        y=self.one_hot(y)\n",
    "        loss_list=[]\n",
    "        for epoch in range(epochs):\n",
    "            predictions = self.forward(X)\n",
    "            loss = self.compute_loss(y, predictions)\n",
    "            self.backward(X, y, learning_rate)\n",
    "            loss_list.append(loss)\n",
    "            if(epoch%10==0):\n",
    "                print(f\"Epoch {epoch}, Loss: {loss}\")\n",
    "        plt.plot(range(1, len(loss_list) + 1), loss_list, marker='X')\n",
    "        plt.xlabel('Epoch')\n",
    "        plt.ylabel('Cost')\n",
    "        plt.title('Cost vs Epoch')\n",
    "        plt.show()\n",
    "\n",
    "    def predict(self, X):\n",
    "        return self.forward(X)"
   ]
  },
  {
   "cell_type": "code",
   "execution_count": 39,
   "metadata": {},
   "outputs": [
    {
     "name": "stdout",
     "output_type": "stream",
     "text": [
      "Epoch 0, Loss: 2.3000530797864305\n",
      "Epoch 10, Loss: 1.833825965639236\n",
      "Epoch 20, Loss: 1.55980497698364\n",
      "Epoch 30, Loss: 1.3817779068073421\n",
      "Epoch 40, Loss: 1.2583379031947806\n",
      "Epoch 50, Loss: 1.1680726016292935\n",
      "Epoch 60, Loss: 1.099256953188514\n",
      "Epoch 70, Loss: 1.0450373159840562\n",
      "Epoch 80, Loss: 1.0011707572054434\n",
      "Epoch 90, Loss: 0.9649012413971233\n",
      "Epoch 100, Loss: 0.9343653893271511\n",
      "Epoch 110, Loss: 0.9082603676269313\n",
      "Epoch 120, Loss: 0.8856489884518431\n",
      "Epoch 130, Loss: 0.865840556702911\n",
      "Epoch 140, Loss: 0.8483152720446382\n",
      "Epoch 150, Loss: 0.832674705276642\n",
      "Epoch 160, Loss: 0.8186084734566612\n",
      "Epoch 170, Loss: 0.8058712889501726\n",
      "Epoch 180, Loss: 0.7942668529485513\n",
      "Epoch 190, Loss: 0.7836361957551838\n",
      "Epoch 200, Loss: 0.7738492352022219\n",
      "Epoch 210, Loss: 0.7647985496744563\n",
      "Epoch 220, Loss: 0.7563946162373131\n",
      "Epoch 230, Loss: 0.748562215517365\n",
      "Epoch 240, Loss: 0.741237702748683\n",
      "Epoch 250, Loss: 0.7343668618349563\n",
      "Epoch 260, Loss: 0.7279031777886282\n",
      "Epoch 270, Loss: 0.7218065283156104\n",
      "Epoch 280, Loss: 0.7160421106840481\n",
      "Epoch 290, Loss: 0.710579576593989\n"
     ]
    },
    {
     "data": {
      "image/png": "[encoded data removed]",
      "text/plain": [
       "<Figure size 640x480 with 1 Axes>"
      ]
     },
     "metadata": {},
     "output_type": "display_data"
    }
   ],
   "source": [
    "input_size = X_train.shape[0]\n",
    "hidden_size = 750\n",
    "output_size = 10    \n",
    "\n",
    "nn = NeuralNetwork(input_size, hidden_size, output_size)\n",
    "\n",
    "nn.train(X_train, y_train, epochs=300,learning_rate=0.9)"
   ]
  },
  {
   "cell_type": "code",
   "execution_count": 40,
   "metadata": {},
   "outputs": [
    {
     "name": "stdout",
     "output_type": "stream",
     "text": [
      "Accuracy: 77.31%\n"
     ]
    }
   ],
   "source": [
    "test_predictions = nn.forward(X_test)\n",
    "\n",
    "# Convert one-hot encoded predictions back to class labels\n",
    "predicted_labels = np.argmax(test_predictions, axis=0)\n",
    "\n",
    "# Calculate accuracy\n",
    "correct_predictions = np.sum(predicted_labels.reshape(-1, 1) == y_test)\n",
    "accuracy = correct_predictions / len(predicted_labels.reshape(-1, 1))\n",
    "print(f\"Accuracy: {accuracy * 100:.2f}%\")"
   ]
  },
  {
   "cell_type": "code",
   "execution_count": 41,
   "metadata": {},
   "outputs": [
    {
     "name": "stdout",
     "output_type": "stream",
     "text": [
      "Accuracy: 77.38%\n"
     ]
    }
   ],
   "source": [
    "train_predictions = nn.forward(X_train)\n",
    "\n",
    "# Convert one-hot encoded predictions back to class labels\n",
    "predicted_labels = np.argmax(train_predictions, axis=0)\n",
    "\n",
    "# Calculate accuracy\n",
    "correct_predictions = np.sum(predicted_labels.reshape(-1, 1) == y_train)\n",
    "accuracy = correct_predictions / len(predicted_labels.reshape(-1, 1))\n",
    "print(f\"Accuracy: {accuracy * 100:.2f}%\")"
   ]
  },
  {
   "cell_type": "code",
   "execution_count": null,
   "metadata": {},
   "outputs": [],
   "source": []
  },
  {
   "cell_type": "code",
   "execution_count": null,
   "metadata": {},
   "outputs": [],
   "source": []
  }
 ],
 "metadata": {
  "kernelspec": {
   "display_name": "Python 3",
   "language": "python",
   "name": "python3"
  },
  "language_info": {
   "codemirror_mode": {
    "name": "ipython",
    "version": 3
   },
   "file_extension": ".py",
   "mimetype": "text/x-python",
   "name": "python",
   "nbconvert_exporter": "python",
   "pygments_lexer": "ipython3",
   "version": "3.11.3"
  }
 },
 "nbformat": 4,
 "nbformat_minor": 2
}
