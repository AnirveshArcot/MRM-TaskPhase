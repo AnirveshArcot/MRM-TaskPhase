{
 "cells": [
  {
   "cell_type": "code",
   "execution_count": 15,
   "metadata": {},
   "outputs": [],
   "source": [
    "import numpy as np\n",
    "import pandas as pd\n",
    "from sklearn.preprocessing import StandardScaler\n",
    "import matplotlib.pyplot as plt\n",
    "from sklearn.model_selection import train_test_split\n",
    "from sklearn.metrics import confusion_matrix, accuracy_score, classification_report"
   ]
  },
  {
   "cell_type": "code",
   "execution_count": 8,
   "metadata": {},
   "outputs": [],
   "source": [
    "df1 = pd.read_csv('fashion-mnist_train.csv')\n",
    "df2=pd.read_csv('fashion-mnist_test.csv')"
   ]
  },
  {
   "cell_type": "code",
   "execution_count": 9,
   "metadata": {},
   "outputs": [],
   "source": [
    "X = df1.iloc[:, 1:].values.astype(float) / 255.0\n",
    "y = df1.iloc[:, 0].values.reshape(-1, 1)\n",
    "\n",
    "# Splitting the data into training and dev sets\n",
    "X_train, X_dev, y_train, y_dev = train_test_split(X, y, test_size=10000, random_state=42)\n",
    "X_train=X_train.T\n",
    "X_dev=X_dev.T"
   ]
  },
  {
   "cell_type": "code",
   "execution_count": 10,
   "metadata": {},
   "outputs": [],
   "source": [
    "\n",
    "X_test = df2.iloc[0:, 1:].values.T\n",
    "X_test = X_test.astype(float) / 255.0\n",
    "y_test = df2.iloc[0:, 0].values.reshape(-1, 1)"
   ]
  },
  {
   "cell_type": "code",
   "execution_count": 11,
   "metadata": {},
   "outputs": [],
   "source": [
    "class NeuralNetwork:\n",
    "    def __init__(self, input_size, hidden_size, output_size,activation):\n",
    "        self.activationfunc=activation\n",
    "        # For Hidden Neurons\n",
    "        self.w1 = np.random.randn(hidden_size, input_size)*0.01\n",
    "        self.b1 = np.zeros((hidden_size, 1))\n",
    "\n",
    "        # For Output Neurons\n",
    "        self.w2 = np.random.randn(output_size, hidden_size)*0.01\n",
    "        self.b2 = np.zeros((output_size, 1))\n",
    "\n",
    "\n",
    "    def one_hot(self,Y):\n",
    "        \n",
    "        one_hot_Y = np.eye(10)[Y.flatten()]\n",
    "        one_hot_Y=one_hot_Y.T\n",
    "        return one_hot_Y\n",
    "\n",
    "\n",
    "    def activation(self,x,alpha=00.1): #tanh\n",
    "        # return np.tanh(x)\n",
    "        if(self.activationfunc==\"relu\"):\n",
    "            return np.maximum(0, x)\n",
    "        if(self.activationfunc==\"leakyrelu\"):\n",
    "            return np.maximum(alpha * x, x)\n",
    "    \n",
    "    def activation_deriv(self,x,alpha=00.1):\n",
    "        # tanh_x = self.activation(x)\n",
    "        # return 1 - tanh_x**2\n",
    "        if(self.activationfunc==\"relu\"):\n",
    "            return x>0\n",
    "        \n",
    "        if(self.activationfunc==\"leakyrelu\"):\n",
    "            dx = np.ones_like(x)\n",
    "            dx[x < 0] = alpha\n",
    "            return dx\n",
    "        \n",
    "        \n",
    "\n",
    "    def softmax(self, x):\n",
    "        ex = np.exp(x)  \n",
    "        return ex / np.sum(ex, axis=0)\n",
    "        \n",
    "    \n",
    "    def forward(self, X):\n",
    "        # Forward pass\n",
    "        self.z1 = np.dot(self.w1, X) + self.b1 #Z corresponds to pre activation value\n",
    "        self.a1 = self.activation(self.z1) #a corresponds to activation value\n",
    "\n",
    "        self.z2 = np.dot(self.w2,self.a1 ) + self.b2 #Z corresponds to pre activation value\n",
    "\n",
    "        self.a2 = self.softmax(self.z2)#a corresponds to activation value\n",
    "        return self.a2\n",
    "\n",
    "    def compute_loss(self, y, y_pred):\n",
    "        m = y.shape[1]\n",
    "        cost = -(1/m)*np.sum(y*np.log(y_pred))\n",
    "        return cost\n",
    "\n",
    "    def backward(self, X, y_true, learning_rate):\n",
    "\n",
    "        m = X.shape[1]\n",
    "        self.a2\n",
    "        self.dz2 = (self.a2-y_true) #derivative of soft max \n",
    "        self.dw2 = (1/m)*np.dot(self.dz2,self.a1.T )\n",
    "        self.db2 = (1/m)*np.sum(self.dz2,axis=1,keepdims=True)\n",
    "\n",
    "\n",
    "        self.dz1 = (1/m) * np.dot(self.w2.T, self.dz2) * self.activation_deriv(self.z1) #derivative of activation\n",
    "        self.dw1 = (1/m)*np.dot(self.dz1,X.T )\n",
    "        self.db1 = (1/m)*np.sum(self.dz1,axis=1,keepdims=True)\n",
    "\n",
    "        self.w2 = self.w2 - learning_rate*self.dw2\n",
    "        self.b2 = self.b2 - learning_rate*self.db2\n",
    "        \n",
    "\n",
    "        self.w1 = self.w1 - learning_rate*self.dw1\n",
    "        self.b1 = self.b1 - learning_rate*self.db1\n",
    "\n",
    "\n",
    " \n",
    "    def train(self, X, y, epochs, learning_rate):\n",
    "        y=self.one_hot(y)\n",
    "        loss_list=[]\n",
    "        for epoch in range(epochs):\n",
    "            predictions = self.forward(X)\n",
    "            loss = self.compute_loss(y, predictions)\n",
    "            self.backward(X, y, learning_rate)\n",
    "            loss_list.append(loss)\n",
    "            if(epoch%10==0):\n",
    "                print(f\"Epoch {epoch}, Loss: {loss}\")\n",
    "        plt.plot(range(1, len(loss_list) + 1), loss_list, marker='X')\n",
    "        plt.xlabel('Epoch')\n",
    "        plt.ylabel('Cost')\n",
    "        plt.title('Cost vs Epoch')\n",
    "        plt.show()\n",
    "\n",
    "    def predict(self, X):\n",
    "        return self.forward(X)"
   ]
  },
  {
   "cell_type": "code",
   "execution_count": 12,
   "metadata": {},
   "outputs": [
    {
     "name": "stdout",
     "output_type": "stream",
     "text": [
      "Epoch 0, Loss: 2.2990499868831225\n",
      "Epoch 10, Loss: 1.864833504311895\n",
      "Epoch 20, Loss: 1.591423098037641\n",
      "Epoch 30, Loss: 1.4081490378130874\n",
      "Epoch 40, Loss: 1.2796155219735985\n",
      "Epoch 50, Loss: 1.185406052222763\n",
      "Epoch 60, Loss: 1.1136740080154857\n",
      "Epoch 70, Loss: 1.0572986468071217\n",
      "Epoch 80, Loss: 1.0118162588432187\n",
      "Epoch 90, Loss: 0.9743132747195281\n"
     ]
    },
    {
     "data": {
      "image/png": "[encoded data removed]",
      "text/plain": [
       "<Figure size 640x480 with 1 Axes>"
      ]
     },
     "metadata": {},
     "output_type": "display_data"
    },
    {
     "name": "stdout",
     "output_type": "stream",
     "text": [
      "Epoch 0, Loss: 2.301722136815932\n",
      "Epoch 10, Loss: 1.8209555051146722\n",
      "Epoch 20, Loss: 1.5400502347617824\n",
      "Epoch 30, Loss: 1.3599176798431332\n",
      "Epoch 40, Loss: 1.2363395724209298\n",
      "Epoch 50, Loss: 1.1466595263765536\n",
      "Epoch 60, Loss: 1.0786380442830912\n",
      "Epoch 70, Loss: 1.0252187280074536\n",
      "Epoch 80, Loss: 0.9820855419002122\n",
      "Epoch 90, Loss: 0.9464624711983489\n"
     ]
    },
    {
     "data": {
      "image/png": "[encoded data removed]",
      "text/plain": [
       "<Figure size 640x480 with 1 Axes>"
      ]
     },
     "metadata": {},
     "output_type": "display_data"
    }
   ],
   "source": [
    "input_size = X_train.shape[0]\n",
    "hidden_size = 750\n",
    "output_size = 10\n",
    "activation1=\"relu\"\n",
    "activation2=\"leakyrelu\"\n",
    "\n",
    "nnr = NeuralNetwork(input_size, hidden_size, output_size,activation1)\n",
    "nnr.train(X_train, y_train, epochs=100,learning_rate=0.9)\n",
    "\n",
    "nnlr = NeuralNetwork(input_size, hidden_size, output_size,activation2)\n",
    "nnlr.train(X_train, y_train, epochs=100,learning_rate=0.9)"
   ]
  },
  {
   "cell_type": "code",
   "execution_count": 13,
   "metadata": {},
   "outputs": [
    {
     "name": "stdout",
     "output_type": "stream",
     "text": [
      "Accuracy: 73.98%\n"
     ]
    }
   ],
   "source": [
    "test_predictions = nnr.forward(X_dev)\n",
    "\n",
    "# Convert one-hot encoded predictions back to class labels\n",
    "predicted_labels = np.argmax(test_predictions, axis=0)\n",
    "\n",
    "# Calculate accuracy\n",
    "correct_predictions = np.sum(predicted_labels.reshape(-1, 1) == y_dev)\n",
    "accuracy = correct_predictions / len(predicted_labels.reshape(-1, 1))\n",
    "print(f\"Accuracy: {accuracy * 100:.2f}%\")"
   ]
  },
  {
   "cell_type": "code",
   "execution_count": 14,
   "metadata": {},
   "outputs": [
    {
     "name": "stdout",
     "output_type": "stream",
     "text": [
      "Accuracy: 74.51%\n"
     ]
    }
   ],
   "source": [
    "test_predictions = nnlr.forward(X_dev)\n",
    "\n",
    "# Convert one-hot encoded predictions back to class labels\n",
    "predicted_labels = np.argmax(test_predictions, axis=0)\n",
    "\n",
    "# Calculate accuracy\n",
    "correct_predictions = np.sum(predicted_labels.reshape(-1, 1) == y_dev)\n",
    "accuracy = correct_predictions / len(predicted_labels.reshape(-1, 1))\n",
    "print(f\"Accuracy: {accuracy * 100:.2f}%\")"
   ]
  },
  {
   "cell_type": "code",
   "execution_count": 21,
   "metadata": {},
   "outputs": [
    {
     "ename": "TypeError",
     "evalue": "unhashable type: 'numpy.ndarray'",
     "output_type": "error",
     "traceback": [
      "\u001b[1;31m---------------------------------------------------------------------------\u001b[0m",
      "\u001b[1;31mTypeError\u001b[0m                                 Traceback (most recent call last)",
      "\u001b[1;32mc:\\Users\\arcot\\OneDrive\\Desktop\\MRM-TaskPhase\\NeuralNetworks\\Fashion-Mnist\\main copy.ipynb Cell 9\u001b[0m line \u001b[0;36m7\n\u001b[0;32m      <a href='vscode-notebook-cell:/c%3A/Users/arcot/OneDrive/Desktop/MRM-TaskPhase/NeuralNetworks/Fashion-Mnist/main%20copy.ipynb#X14sZmlsZQ%3D%3D?line=2'>3</a>\u001b[0m predicted_labels\u001b[39m=\u001b[39mpredicted_labels\u001b[39m.\u001b[39mreshape(\u001b[39m-\u001b[39m\u001b[39m1\u001b[39m, \u001b[39m1\u001b[39m)\n\u001b[0;32m      <a href='vscode-notebook-cell:/c%3A/Users/arcot/OneDrive/Desktop/MRM-TaskPhase/NeuralNetworks/Fashion-Mnist/main%20copy.ipynb#X14sZmlsZQ%3D%3D?line=5'>6</a>\u001b[0m unique_labels \u001b[39m=\u001b[39m \u001b[39msorted\u001b[39m(y_test \u001b[39m+\u001b[39m predicted_labels)\n\u001b[1;32m----> <a href='vscode-notebook-cell:/c%3A/Users/arcot/OneDrive/Desktop/MRM-TaskPhase/NeuralNetworks/Fashion-Mnist/main%20copy.ipynb#X14sZmlsZQ%3D%3D?line=6'>7</a>\u001b[0m cm \u001b[39m=\u001b[39m confusion_matrix(y_test, predicted_labels, labels\u001b[39m=\u001b[39;49munique_labels)\n\u001b[0;32m      <a href='vscode-notebook-cell:/c%3A/Users/arcot/OneDrive/Desktop/MRM-TaskPhase/NeuralNetworks/Fashion-Mnist/main%20copy.ipynb#X14sZmlsZQ%3D%3D?line=7'>8</a>\u001b[0m \u001b[39mprint\u001b[39m(cm)\n\u001b[0;32m     <a href='vscode-notebook-cell:/c%3A/Users/arcot/OneDrive/Desktop/MRM-TaskPhase/NeuralNetworks/Fashion-Mnist/main%20copy.ipynb#X14sZmlsZQ%3D%3D?line=9'>10</a>\u001b[0m classification_rep \u001b[39m=\u001b[39m classification_report(y_test,predicted_labels,zero_division\u001b[39m=\u001b[39m\u001b[39m1\u001b[39m)\n",
      "File \u001b[1;32mc:\\Users\\arcot\\AppData\\Local\\Programs\\Python\\Python311\\Lib\\site-packages\\sklearn\\utils\\_param_validation.py:211\u001b[0m, in \u001b[0;36mvalidate_params.<locals>.decorator.<locals>.wrapper\u001b[1;34m(*args, **kwargs)\u001b[0m\n\u001b[0;32m    205\u001b[0m \u001b[39mtry\u001b[39;00m:\n\u001b[0;32m    206\u001b[0m     \u001b[39mwith\u001b[39;00m config_context(\n\u001b[0;32m    207\u001b[0m         skip_parameter_validation\u001b[39m=\u001b[39m(\n\u001b[0;32m    208\u001b[0m             prefer_skip_nested_validation \u001b[39mor\u001b[39;00m global_skip_validation\n\u001b[0;32m    209\u001b[0m         )\n\u001b[0;32m    210\u001b[0m     ):\n\u001b[1;32m--> 211\u001b[0m         \u001b[39mreturn\u001b[39;00m func(\u001b[39m*\u001b[39;49margs, \u001b[39m*\u001b[39;49m\u001b[39m*\u001b[39;49mkwargs)\n\u001b[0;32m    212\u001b[0m \u001b[39mexcept\u001b[39;00m InvalidParameterError \u001b[39mas\u001b[39;00m e:\n\u001b[0;32m    213\u001b[0m     \u001b[39m# When the function is just a wrapper around an estimator, we allow\u001b[39;00m\n\u001b[0;32m    214\u001b[0m     \u001b[39m# the function to delegate validation to the estimator, but we replace\u001b[39;00m\n\u001b[0;32m    215\u001b[0m     \u001b[39m# the name of the estimator by the name of the function in the error\u001b[39;00m\n\u001b[0;32m    216\u001b[0m     \u001b[39m# message to avoid confusion.\u001b[39;00m\n\u001b[0;32m    217\u001b[0m     msg \u001b[39m=\u001b[39m re\u001b[39m.\u001b[39msub(\n\u001b[0;32m    218\u001b[0m         \u001b[39mr\u001b[39m\u001b[39m\"\u001b[39m\u001b[39mparameter of \u001b[39m\u001b[39m\\\u001b[39m\u001b[39mw+ must be\u001b[39m\u001b[39m\"\u001b[39m,\n\u001b[0;32m    219\u001b[0m         \u001b[39mf\u001b[39m\u001b[39m\"\u001b[39m\u001b[39mparameter of \u001b[39m\u001b[39m{\u001b[39;00mfunc\u001b[39m.\u001b[39m\u001b[39m__qualname__\u001b[39m\u001b[39m}\u001b[39;00m\u001b[39m must be\u001b[39m\u001b[39m\"\u001b[39m,\n\u001b[0;32m    220\u001b[0m         \u001b[39mstr\u001b[39m(e),\n\u001b[0;32m    221\u001b[0m     )\n",
      "File \u001b[1;32mc:\\Users\\arcot\\AppData\\Local\\Programs\\Python\\Python311\\Lib\\site-packages\\sklearn\\metrics\\_classification.py:359\u001b[0m, in \u001b[0;36mconfusion_matrix\u001b[1;34m(y_true, y_pred, labels, sample_weight, normalize)\u001b[0m\n\u001b[0;32m    352\u001b[0m need_index_conversion \u001b[39m=\u001b[39m \u001b[39mnot\u001b[39;00m (\n\u001b[0;32m    353\u001b[0m     labels\u001b[39m.\u001b[39mdtype\u001b[39m.\u001b[39mkind \u001b[39min\u001b[39;00m {\u001b[39m\"\u001b[39m\u001b[39mi\u001b[39m\u001b[39m\"\u001b[39m, \u001b[39m\"\u001b[39m\u001b[39mu\u001b[39m\u001b[39m\"\u001b[39m, \u001b[39m\"\u001b[39m\u001b[39mb\u001b[39m\u001b[39m\"\u001b[39m}\n\u001b[0;32m    354\u001b[0m     \u001b[39mand\u001b[39;00m np\u001b[39m.\u001b[39mall(labels \u001b[39m==\u001b[39m np\u001b[39m.\u001b[39marange(n_labels))\n\u001b[0;32m    355\u001b[0m     \u001b[39mand\u001b[39;00m y_true\u001b[39m.\u001b[39mmin() \u001b[39m>\u001b[39m\u001b[39m=\u001b[39m \u001b[39m0\u001b[39m\n\u001b[0;32m    356\u001b[0m     \u001b[39mand\u001b[39;00m y_pred\u001b[39m.\u001b[39mmin() \u001b[39m>\u001b[39m\u001b[39m=\u001b[39m \u001b[39m0\u001b[39m\n\u001b[0;32m    357\u001b[0m )\n\u001b[0;32m    358\u001b[0m \u001b[39mif\u001b[39;00m need_index_conversion:\n\u001b[1;32m--> 359\u001b[0m     label_to_ind \u001b[39m=\u001b[39m {y: x \u001b[39mfor\u001b[39;49;00m x, y \u001b[39min\u001b[39;49;00m \u001b[39menumerate\u001b[39;49m(labels)}\n\u001b[0;32m    360\u001b[0m     y_pred \u001b[39m=\u001b[39m np\u001b[39m.\u001b[39marray([label_to_ind\u001b[39m.\u001b[39mget(x, n_labels \u001b[39m+\u001b[39m \u001b[39m1\u001b[39m) \u001b[39mfor\u001b[39;00m x \u001b[39min\u001b[39;00m y_pred])\n\u001b[0;32m    361\u001b[0m     y_true \u001b[39m=\u001b[39m np\u001b[39m.\u001b[39marray([label_to_ind\u001b[39m.\u001b[39mget(x, n_labels \u001b[39m+\u001b[39m \u001b[39m1\u001b[39m) \u001b[39mfor\u001b[39;00m x \u001b[39min\u001b[39;00m y_true])\n",
      "File \u001b[1;32mc:\\Users\\arcot\\AppData\\Local\\Programs\\Python\\Python311\\Lib\\site-packages\\sklearn\\metrics\\_classification.py:359\u001b[0m, in \u001b[0;36m<dictcomp>\u001b[1;34m(.0)\u001b[0m\n\u001b[0;32m    352\u001b[0m need_index_conversion \u001b[39m=\u001b[39m \u001b[39mnot\u001b[39;00m (\n\u001b[0;32m    353\u001b[0m     labels\u001b[39m.\u001b[39mdtype\u001b[39m.\u001b[39mkind \u001b[39min\u001b[39;00m {\u001b[39m\"\u001b[39m\u001b[39mi\u001b[39m\u001b[39m\"\u001b[39m, \u001b[39m\"\u001b[39m\u001b[39mu\u001b[39m\u001b[39m\"\u001b[39m, \u001b[39m\"\u001b[39m\u001b[39mb\u001b[39m\u001b[39m\"\u001b[39m}\n\u001b[0;32m    354\u001b[0m     \u001b[39mand\u001b[39;00m np\u001b[39m.\u001b[39mall(labels \u001b[39m==\u001b[39m np\u001b[39m.\u001b[39marange(n_labels))\n\u001b[0;32m    355\u001b[0m     \u001b[39mand\u001b[39;00m y_true\u001b[39m.\u001b[39mmin() \u001b[39m>\u001b[39m\u001b[39m=\u001b[39m \u001b[39m0\u001b[39m\n\u001b[0;32m    356\u001b[0m     \u001b[39mand\u001b[39;00m y_pred\u001b[39m.\u001b[39mmin() \u001b[39m>\u001b[39m\u001b[39m=\u001b[39m \u001b[39m0\u001b[39m\n\u001b[0;32m    357\u001b[0m )\n\u001b[0;32m    358\u001b[0m \u001b[39mif\u001b[39;00m need_index_conversion:\n\u001b[1;32m--> 359\u001b[0m     label_to_ind \u001b[39m=\u001b[39m {y: x \u001b[39mfor\u001b[39;00m x, y \u001b[39min\u001b[39;00m \u001b[39menumerate\u001b[39m(labels)}\n\u001b[0;32m    360\u001b[0m     y_pred \u001b[39m=\u001b[39m np\u001b[39m.\u001b[39marray([label_to_ind\u001b[39m.\u001b[39mget(x, n_labels \u001b[39m+\u001b[39m \u001b[39m1\u001b[39m) \u001b[39mfor\u001b[39;00m x \u001b[39min\u001b[39;00m y_pred])\n\u001b[0;32m    361\u001b[0m     y_true \u001b[39m=\u001b[39m np\u001b[39m.\u001b[39marray([label_to_ind\u001b[39m.\u001b[39mget(x, n_labels \u001b[39m+\u001b[39m \u001b[39m1\u001b[39m) \u001b[39mfor\u001b[39;00m x \u001b[39min\u001b[39;00m y_true])\n",
      "\u001b[1;31mTypeError\u001b[0m: unhashable type: 'numpy.ndarray'"
     ]
    }
   ],
   "source": [
    "test_predictions = nnlr.forward(X_test)\n",
    "predicted_labels = np.argmax(test_predictions, axis=0)\n",
    "predicted_labels=predicted_labels.reshape(-1, 1)\n",
    "\n",
    "\n",
    "unique_labels = sorted(set(y_test + predicted_labels))\n",
    "cm = confusion_matrix(y_test, predicted_labels, labels=unique_labels)\n",
    "print(cm)\n",
    "\n",
    "classification_rep = classification_report(y_test,predicted_labels,zero_division=1)\n",
    "print(classification_rep)\n"
   ]
  },
  {
   "cell_type": "code",
   "execution_count": null,
   "metadata": {},
   "outputs": [],
   "source": []
  }
 ],
 "metadata": {
  "kernelspec": {
   "display_name": "Python 3",
   "language": "python",
   "name": "python3"
  },
  "language_info": {
   "codemirror_mode": {
    "name": "ipython",
    "version": 3
   },
   "file_extension": ".py",
   "mimetype": "text/x-python",
   "name": "python",
   "nbconvert_exporter": "python",
   "pygments_lexer": "ipython3",
   "version": "3.11.3"
  }
 },
 "nbformat": 4,
 "nbformat_minor": 2
}
