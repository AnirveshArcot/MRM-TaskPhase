{
 "cells": [
  {
   "cell_type": "code",
   "execution_count": 1,
   "metadata": {},
   "outputs": [],
   "source": [
    "import numpy as np\n",
    "import pandas as pd\n",
    "from sklearn.model_selection import train_test_split\n",
    "from sklearn.preprocessing import StandardScaler"
   ]
  },
  {
   "cell_type": "code",
   "execution_count": 2,
   "metadata": {},
   "outputs": [],
   "source": [
    "df = pd.read_csv('fashion-mnist_test.csv')"
   ]
  },
  {
   "cell_type": "code",
   "execution_count": 3,
   "metadata": {},
   "outputs": [],
   "source": [
    "y = df.iloc[0:, 0].values.reshape(-1, 1) #starting from 1st row because csv first row is column names\n"
   ]
  },
  {
   "cell_type": "code",
   "execution_count": 4,
   "metadata": {},
   "outputs": [],
   "source": [
    "X = df.iloc[0:, 1:].values\n",
    "X = X.astype(float) / 255.0"
   ]
  },
  {
   "cell_type": "code",
   "execution_count": 5,
   "metadata": {},
   "outputs": [],
   "source": [
    "X_train, X_test, y_train, y_test = train_test_split(X, y, test_size=0.2, random_state=42)"
   ]
  },
  {
   "cell_type": "code",
   "execution_count": 6,
   "metadata": {},
   "outputs": [
    {
     "data": {
      "text/plain": [
       "(10000, 784)"
      ]
     },
     "execution_count": 6,
     "metadata": {},
     "output_type": "execute_result"
    }
   ],
   "source": [
    "X.shape"
   ]
  },
  {
   "cell_type": "code",
   "execution_count": 7,
   "metadata": {},
   "outputs": [],
   "source": [
    "class NeuralNetworkSigmoid:\n",
    "    def __init__(self, input_size, hidden_size, output_size):\n",
    "        \n",
    "        np.random.seed(42)\n",
    "        # For Hidden Neurons\n",
    "        self.w1 = np.random.randn(hidden_size, input_size)\n",
    "        self.b1 = np.zeros((hidden_size, 1))\n",
    "\n",
    "        # For Output Neurons\n",
    "        self.w2 = np.random.randn(hidden_size, output_size)\n",
    "        self.b2 = np.zeros((output_size, 1))\n",
    "\n",
    "    def sigmoid(self, x): # For Hidden Layers\n",
    "        return 1 / (1 + np.exp(-x)) \n",
    "    \n",
    "    def sigmoid_derivative(self,x):\n",
    "        s = self.sigmoid(x)\n",
    "        return s * (1 - s)\n",
    "\n",
    "    def softmax(self, x): # For Output Layer\n",
    "        return np.exp(x) / sum (np.exp(x))\n",
    "    \n",
    "    def forward(self, X):\n",
    "        # Forward pass\n",
    "        self.z1 = np.dot(X, self.w1) + self.b1 #Z corresponds to pre activation value\n",
    "        self.a1 = self.sigmoid(self.z1) #a corresponds to activation value\n",
    "\n",
    "        self.z2 = np.dot(self.a1, self.w2) + self.b2 #Z corresponds to pre activation value\n",
    "        self.a2 = self.softmax(self.z2)#a corresponds to activation value\n",
    "\n",
    "\n",
    "        return self.a2\n",
    "\n",
    "    def compute_loss(self, y_true, y_pred):\n",
    "        loss = -np.sum(y_true * np.log(y_pred + 1e-10)) / len(y_true)\n",
    "        return loss\n",
    "\n",
    "    def backward(self, X, y_true, learning_rate):\n",
    "\n",
    "        m = X.shape[0]\n",
    "        \n",
    "        self.dz2 = (self.a2 - y_true) #derivative of soft max \n",
    "        \n",
    "        self.dw2 = (1/m)*np.dot(self.a1.T, self.dz2)\n",
    "        \n",
    "        self.db2 = (1/m)*np.sum(self.dz2, axis = 0, keepdims = True)\n",
    "        self.dz1 = (1/m)*np.dot(self.w2, self.dz2.T).T*self.sigmoid_derivative(self.a1) #derivative of sigmoid\n",
    "        \n",
    "        self.dw1 = (1/m)*np.dot(X.T, self.dz1)\n",
    "        self.db1 = (1/m)*np.sum(self.dz1, axis = 0, keepdims = True)\n",
    "\n",
    "        self.w2 = self.w2 - learning_rate*self.dw2\n",
    "        self.b2 = self.b2 - learning_rate*self.db2\n",
    "        \n",
    "\n",
    "        self.w1 = self.w1 - learning_rate*self.dw1\n",
    "        self.b1 = self.b1 - learning_rate*self.db1\n",
    "\n",
    " \n",
    "    def train(self, X, y, epochs, learning_rate):\n",
    "        for epoch in range(epochs):\n",
    "            predictions = self.forward(X)\n",
    "            loss = self.compute_loss(y, predictions)\n",
    "            self.backward(X, y, learning_rate)\n",
    "            \n",
    "            if epoch % 10 == 0:\n",
    "                print(f\"Epoch {epoch}, Loss: {loss}\")\n",
    "\n",
    "    def predict(self, X):\n",
    "        return self.forward(X)"
   ]
  },
  {
   "cell_type": "code",
   "execution_count": 9,
   "metadata": {},
   "outputs": [
    {
     "name": "stdout",
     "output_type": "stream",
     "text": [
      "Epoch 0, Loss: 473.35119993700334\n",
      "Epoch 10, Loss: 468.5098024071775\n",
      "Epoch 20, Loss: 464.92716781644646\n",
      "Epoch 30, Loss: 462.54821634979703\n",
      "Epoch 40, Loss: 461.3177438759756\n",
      "Epoch 50, Loss: 461.1815982915682\n",
      "Epoch 60, Loss: 462.08788200502994\n",
      "Epoch 70, Loss: 463.98782724228886\n",
      "Epoch 80, Loss: 466.8361598834183\n",
      "Epoch 90, Loss: 470.5909437537707\n"
     ]
    }
   ],
   "source": [
    "input_size = X_train.shape[1]\n",
    "hidden_size = 30\n",
    "output_size = 10\n",
    "\n",
    "nns = NeuralNetworkSigmoid(input_size, hidden_size, output_size)\n",
    "\n",
    "nns.train(X_train, y_train, epochs=100,learning_rate=0.003)"
   ]
  },
  {
   "cell_type": "code",
   "execution_count": 10,
   "metadata": {},
   "outputs": [
    {
     "name": "stdout",
     "output_type": "stream",
     "text": [
      "Accuracy: 5.09%\n"
     ]
    }
   ],
   "source": [
    "test_predictions = nns.forward(X_train)\n",
    "\n",
    "# Convert one-hot encoded predictions back to class labels\n",
    "predicted_labels = np.argmax(test_predictions, axis=1)\n",
    "\n",
    "# Calculate accuracy\n",
    "accuracy = np.mean(predicted_labels == np.argmax(y_train, axis=1))\n",
    "print(f\"Accuracy: {accuracy * 100:.2f}%\")"
   ]
  },
  {
   "cell_type": "code",
   "execution_count": null,
   "metadata": {},
   "outputs": [],
   "source": []
  }
 ],
 "metadata": {
  "kernelspec": {
   "display_name": "Python 3",
   "language": "python",
   "name": "python3"
  },
  "language_info": {
   "codemirror_mode": {
    "name": "ipython",
    "version": 3
   },
   "file_extension": ".py",
   "mimetype": "text/x-python",
   "name": "python",
   "nbconvert_exporter": "python",
   "pygments_lexer": "ipython3",
   "version": "3.11.3"
  }
 },
 "nbformat": 4,
 "nbformat_minor": 2
}
