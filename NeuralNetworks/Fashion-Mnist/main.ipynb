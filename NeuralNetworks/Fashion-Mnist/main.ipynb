{
 "cells": [
  {
   "cell_type": "code",
   "execution_count": 162,
   "metadata": {},
   "outputs": [],
   "source": [
    "import numpy as np\n",
    "import pandas as pd\n",
    "from sklearn.preprocessing import StandardScaler\n",
    "import matplotlib.pyplot as plt"
   ]
  },
  {
   "cell_type": "code",
   "execution_count": 163,
   "metadata": {},
   "outputs": [],
   "source": [
    "df1 = pd.read_csv('fashion-mnist_train.csv')\n",
    "df2=pd.read_csv('fashion-mnist_test.csv')"
   ]
  },
  {
   "cell_type": "code",
   "execution_count": 164,
   "metadata": {},
   "outputs": [],
   "source": [
    "y_train = df1.iloc[0:, 0].values.reshape(-1, 1) #starting from 1st row because csv first row is column names\n",
    "y_test = df2.iloc[0:, 0].values.reshape(-1, 1)"
   ]
  },
  {
   "cell_type": "code",
   "execution_count": 165,
   "metadata": {},
   "outputs": [],
   "source": [
    "X_train = df1.iloc[0:, 1:].values.T\n",
    "X_train = X_train.astype(float) / 255.0\n",
    "\n",
    "X_test = df2.iloc[0:, 1:].values.T\n",
    "X_test = X_test.astype(float) / 255.0"
   ]
  },
  {
   "cell_type": "code",
   "execution_count": 166,
   "metadata": {},
   "outputs": [],
   "source": [
    "class NeuralNetwork:\n",
    "    def __init__(self, input_size, hidden_size, output_size):\n",
    "        # For Hidden Neurons\n",
    "        self.w1 = np.random.randn(hidden_size, input_size)*0.01\n",
    "        self.b1 = np.zeros((hidden_size, 1))\n",
    "\n",
    "        # For Output Neurons\n",
    "        self.w2 = np.random.randn(output_size, hidden_size)*0.01\n",
    "        self.b2 = np.zeros((output_size, 1))\n",
    "\n",
    "\n",
    "    def one_hot(self,Y):\n",
    "        \n",
    "        one_hot_Y = np.eye(10)[Y.flatten()]\n",
    "        one_hot_Y=one_hot_Y.T\n",
    "        return one_hot_Y\n",
    "\n",
    "\n",
    "    def activation(self,x): #tanh\n",
    "        # return np.tanh(x)\n",
    "        return np.maximum(0, x)\n",
    "    \n",
    "    def activation_deriv(self,x):\n",
    "        # tanh_x = self.activation(x)\n",
    "        # return 1 - tanh_x**2\n",
    "        return x>0\n",
    "        \n",
    "\n",
    "    def softmax(self, x):\n",
    "        ex = np.exp(x)  \n",
    "        return ex / np.sum(ex, axis=0)\n",
    "        \n",
    "    \n",
    "    def forward(self, X):\n",
    "        # Forward pass\n",
    "        self.z1 = np.dot(self.w1, X) + self.b1 #Z corresponds to pre activation value\n",
    "        self.a1 = self.activation(self.z1) #a corresponds to activation value\n",
    "\n",
    "        self.z2 = np.dot(self.w2,self.a1 ) + self.b2 #Z corresponds to pre activation value\n",
    "\n",
    "        self.a2 = self.softmax(self.z2)#a corresponds to activation value\n",
    "        return self.a2\n",
    "\n",
    "    def compute_loss(self, y, y_pred):\n",
    "        m = y.shape[1]\n",
    "        cost = -(1/m)*np.sum(y*np.log(y_pred))\n",
    "        return cost\n",
    "\n",
    "    def backward(self, X, y_true, learning_rate):\n",
    "\n",
    "        m = X.shape[1]\n",
    "\n",
    "        self.dz2 = (self.a2 - y_true) #derivative of soft max \n",
    "        self.dw2 = (1/m)*np.dot(self.dz2,self.a1.T )\n",
    "        self.db2 = (1/m)*np.sum(self.dz2,axis=1,keepdims=True)\n",
    "\n",
    "\n",
    "        self.dz1 = (1/m) * np.dot(self.w2.T, self.dz2) * self.activation_deriv(self.z1) #derivative of activation\n",
    "        self.dw1 = (1/m)*np.dot(self.dz1,X.T )\n",
    "        self.db1 = (1/m)*np.sum(self.dz1,axis=1,keepdims=True)\n",
    "\n",
    "        self.w2 = self.w2 - learning_rate*self.dw2\n",
    "        self.b2 = self.b2 - learning_rate*self.db2\n",
    "        \n",
    "\n",
    "        self.w1 = self.w1 - learning_rate*self.dw1\n",
    "        self.b1 = self.b1 - learning_rate*self.db1\n",
    "\n",
    "\n",
    " \n",
    "    def train(self, X, y, epochs, learning_rate):\n",
    "        y=self.one_hot(y)\n",
    "        loss_list=[]\n",
    "        for epoch in range(epochs):\n",
    "            predictions = self.forward(X)\n",
    "            loss = self.compute_loss(y, predictions)\n",
    "            self.backward(X, y, learning_rate)\n",
    "            loss_list.append(loss)\n",
    "            print(f\"Epoch {epoch}, Loss: {loss}\")\n",
    "        plt.plot(range(1, len(loss_list) + 1), loss_list, marker='X')\n",
    "        plt.xlabel('Epoch')\n",
    "        plt.ylabel('Cost')\n",
    "        plt.title('Cost vs Epoch')\n",
    "        plt.show()\n",
    "\n",
    "    def predict(self, X):\n",
    "        return self.forward(X)"
   ]
  },
  {
   "cell_type": "code",
   "execution_count": 172,
   "metadata": {},
   "outputs": [
    {
     "name": "stdout",
     "output_type": "stream",
     "text": [
      "Epoch 0, Loss: 2.303768070187276\n",
      "Epoch 1, Loss: 2.222721541753557\n",
      "Epoch 2, Loss: 2.1559694606032767\n",
      "Epoch 3, Loss: 2.0950503130580205\n",
      "Epoch 4, Loss: 2.0381530173955835\n",
      "Epoch 5, Loss: 1.9847222524442707\n",
      "Epoch 6, Loss: 1.9344689447706458\n",
      "Epoch 7, Loss: 1.8871724556660154\n",
      "Epoch 8, Loss: 1.8426359054049013\n",
      "Epoch 9, Loss: 1.800675256284385\n",
      "Epoch 10, Loss: 1.7611168031990612\n",
      "Epoch 11, Loss: 1.7237967850538802\n",
      "Epoch 12, Loss: 1.6885614005831808\n",
      "Epoch 13, Loss: 1.655266768021343\n",
      "Epoch 14, Loss: 1.6237787373196126\n",
      "Epoch 15, Loss: 1.5939725689345825\n",
      "Epoch 16, Loss: 1.565732515350195\n",
      "Epoch 17, Loss: 1.5389513427426826\n",
      "Epoch 18, Loss: 1.5135298193171596\n",
      "Epoch 19, Loss: 1.4893761944858703\n",
      "Epoch 20, Loss: 1.466405679342582\n",
      "Epoch 21, Loss: 1.444539942922915\n",
      "Epoch 22, Loss: 1.423706627946975\n",
      "Epoch 23, Loss: 1.4038388910795316\n",
      "Epoch 24, Loss: 1.384874970555606\n",
      "Epoch 25, Loss: 1.3667577809176639\n",
      "Epoch 26, Loss: 1.3494345368777456\n",
      "Epoch 27, Loss: 1.3328564051204579\n",
      "Epoch 28, Loss: 1.3169781811153591\n",
      "Epoch 29, Loss: 1.3017579931062015\n",
      "Epoch 30, Loss: 1.2871570303889226\n",
      "Epoch 31, Loss: 1.2731392916852837\n",
      "Epoch 32, Loss: 1.259671356180193\n",
      "Epoch 33, Loss: 1.2467221752027278\n",
      "Epoch 34, Loss: 1.2342628790844918\n",
      "Epoch 35, Loss: 1.2222666029399285\n",
      "Epoch 36, Loss: 1.210708326108788\n",
      "Epoch 37, Loss: 1.1995647253782218\n",
      "Epoch 38, Loss: 1.1888140414741493\n",
      "Epoch 39, Loss: 1.1784359577928045\n",
      "Epoch 40, Loss: 1.168411487029656\n",
      "Epoch 41, Loss: 1.158722869318309\n",
      "Epoch 42, Loss: 1.1493534806756083\n",
      "Epoch 43, Loss: 1.140287745970575\n",
      "Epoch 44, Loss: 1.131511060718515\n",
      "Epoch 45, Loss: 1.1230097198169862\n",
      "Epoch 46, Loss: 1.1147708512235086\n",
      "Epoch 47, Loss: 1.1067823556768757\n",
      "Epoch 48, Loss: 1.0990328514875982\n",
      "Epoch 49, Loss: 1.091511624068673\n",
      "Epoch 50, Loss: 1.084208578614858\n",
      "Epoch 51, Loss: 1.07711419753401\n",
      "Epoch 52, Loss: 1.070219499734615\n",
      "Epoch 53, Loss: 1.063516005660939\n",
      "Epoch 54, Loss: 1.056995702436321\n",
      "Epoch 55, Loss: 1.0506510137970928\n",
      "Epoch 56, Loss: 1.0444747709336986\n",
      "Epoch 57, Loss: 1.03846018571199\n",
      "Epoch 58, Loss: 1.0326008268321383\n",
      "Epoch 59, Loss: 1.026890596154626\n",
      "Epoch 60, Loss: 1.0213237077584734\n",
      "Epoch 61, Loss: 1.0158946694009332\n",
      "Epoch 62, Loss: 1.0105982652819316\n",
      "Epoch 63, Loss: 1.0054295357998657\n",
      "Epoch 64, Loss: 1.0003837654693213\n",
      "Epoch 65, Loss: 0.9954564662171417\n",
      "Epoch 66, Loss: 0.9906433655834657\n",
      "Epoch 67, Loss: 0.9859403926655521\n",
      "Epoch 68, Loss: 0.9813436670542289\n",
      "Epoch 69, Loss: 0.9768494887804838\n",
      "Epoch 70, Loss: 0.9724543261787281\n",
      "Epoch 71, Loss: 0.9681548087037488\n",
      "Epoch 72, Loss: 0.9639477160322789\n",
      "Epoch 73, Loss: 0.9598299706805569\n",
      "Epoch 74, Loss: 0.9557986303660808\n",
      "Epoch 75, Loss: 0.9518508796311296\n",
      "Epoch 76, Loss: 0.947984024856633\n",
      "Epoch 77, Loss: 0.9441954864862666\n",
      "Epoch 78, Loss: 0.9404827935317632\n",
      "Epoch 79, Loss: 0.9368435779089862\n",
      "Epoch 80, Loss: 0.9332755695722454\n",
      "Epoch 81, Loss: 0.9297765909763013\n",
      "Epoch 82, Loss: 0.9263445526698665\n",
      "Epoch 83, Loss: 0.9229774483861916\n",
      "Epoch 84, Loss: 0.9196733515796306\n",
      "Epoch 85, Loss: 0.9164304113759275\n",
      "Epoch 86, Loss: 0.9132468495142914\n",
      "Epoch 87, Loss: 0.9101209552377825\n",
      "Epoch 88, Loss: 0.9070510824925647\n",
      "Epoch 89, Loss: 0.9040356487369523\n",
      "Epoch 90, Loss: 0.9010731313099634\n",
      "Epoch 91, Loss: 0.8981620621235012\n",
      "Epoch 92, Loss: 0.8953010280939264\n",
      "Epoch 93, Loss: 0.8924886678466434\n",
      "Epoch 94, Loss: 0.8897236686591871\n",
      "Epoch 95, Loss: 0.8870047652655798\n",
      "Epoch 96, Loss: 0.8843307369653635\n",
      "Epoch 97, Loss: 0.8817004057563818\n",
      "Epoch 98, Loss: 0.8791126350844773\n",
      "Epoch 99, Loss: 0.8765663276290856\n"
     ]
    },
    {
     "data": {
      "image/png": "[encoded data removed]",
      "text/plain": [
       "<Figure size 640x480 with 1 Axes>"
      ]
     },
     "metadata": {},
     "output_type": "display_data"
    }
   ],
   "source": [
    "input_size = X_train.shape[0]\n",
    "hidden_size = 1000\n",
    "output_size = 10    \n",
    "\n",
    "nn = NeuralNetwork(input_size, hidden_size, output_size)\n",
    "\n",
    "nn.train(X_train, y_train, epochs=100,learning_rate=0.9)"
   ]
  },
  {
   "cell_type": "code",
   "execution_count": 173,
   "metadata": {},
   "outputs": [
    {
     "name": "stdout",
     "output_type": "stream",
     "text": [
      "Accuracy: 74.61%\n"
     ]
    }
   ],
   "source": [
    "test_predictions = nn.forward(X_test)\n",
    "\n",
    "# Convert one-hot encoded predictions back to class labels\n",
    "predicted_labels = np.argmax(test_predictions, axis=0)\n",
    "\n",
    "# Calculate accuracy\n",
    "correct_predictions = np.sum(predicted_labels.reshape(-1, 1) == y_test)\n",
    "accuracy = correct_predictions / len(predicted_labels.reshape(-1, 1))\n",
    "print(f\"Accuracy: {accuracy * 100:.2f}%\")"
   ]
  },
  {
   "cell_type": "code",
   "execution_count": 174,
   "metadata": {},
   "outputs": [
    {
     "name": "stdout",
     "output_type": "stream",
     "text": [
      "Accuracy: 74.86%\n"
     ]
    }
   ],
   "source": [
    "train_predictions = nn.forward(X_train)\n",
    "\n",
    "# Convert one-hot encoded predictions back to class labels\n",
    "predicted_labels = np.argmax(train_predictions, axis=0)\n",
    "\n",
    "# Calculate accuracy\n",
    "correct_predictions = np.sum(predicted_labels.reshape(-1, 1) == y_train)\n",
    "accuracy = correct_predictions / len(predicted_labels.reshape(-1, 1))\n",
    "print(f\"Accuracy: {accuracy * 100:.2f}%\")"
   ]
  }
 ],
 "metadata": {
  "kernelspec": {
   "display_name": "Python 3",
   "language": "python",
   "name": "python3"
  },
  "language_info": {
   "codemirror_mode": {
    "name": "ipython",
    "version": 3
   },
   "file_extension": ".py",
   "mimetype": "text/x-python",
   "name": "python",
   "nbconvert_exporter": "python",
   "pygments_lexer": "ipython3",
   "version": "3.11.3"
  }
 },
 "nbformat": 4,
 "nbformat_minor": 2
}
