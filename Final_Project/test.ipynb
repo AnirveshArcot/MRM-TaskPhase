{
 "cells": [
  {
   "cell_type": "code",
   "execution_count": 1,
   "metadata": {},
   "outputs": [
    {
     "name": "stderr",
     "output_type": "stream",
     "text": [
      "c:\\Users\\arcot\\AppData\\Local\\Programs\\Python\\Python311\\Lib\\site-packages\\tqdm\\auto.py:21: TqdmWarning: IProgress not found. Please update jupyter and ipywidgets. See https://ipywidgets.readthedocs.io/en/stable/user_install.html\n",
      "  from .autonotebook import tqdm as notebook_tqdm\n"
     ]
    }
   ],
   "source": [
    "import torch\n",
    "from transformers import BertTokenizer, BertForSequenceClassification\n",
    "from torch.utils.data import DataLoader, TensorDataset\n",
    "from transformers import AdamW\n",
    "import pandas as pd\n",
    "from utils.train_utils import createSplit"
   ]
  },
  {
   "cell_type": "code",
   "execution_count": 2,
   "metadata": {},
   "outputs": [],
   "source": [
    "tokenizer = BertTokenizer.from_pretrained('bert-base-uncased')\n",
    "df = pd.read_csv(\"./Files/spam.csv\")\n",
    "sentences = df['v2'].tolist()\n",
    "labels = df['v1'].tolist()\n",
    "train_loader ,test_loader,val_loader = createSplit(sentences,labels,4)"
   ]
  },
  {
   "cell_type": "code",
   "execution_count": 3,
   "metadata": {},
   "outputs": [
    {
     "ename": "TypeError",
     "evalue": "BertForSequenceClassification.__init__() got an unexpected keyword argument 'num_labels'",
     "output_type": "error",
     "traceback": [
      "\u001b[1;31m---------------------------------------------------------------------------\u001b[0m",
      "\u001b[1;31mTypeError\u001b[0m                                 Traceback (most recent call last)",
      "\u001b[1;32mc:\\Users\\arcot\\OneDrive\\Desktop\\MRM-TaskPhase\\Final_Project\\test.ipynb Cell 3\u001b[0m line \u001b[0;36m2\n\u001b[0;32m      <a href='vscode-notebook-cell:/c%3A/Users/arcot/OneDrive/Desktop/MRM-TaskPhase/Final_Project/test.ipynb#W2sZmlsZQ%3D%3D?line=0'>1</a>\u001b[0m \u001b[39m# Define the BERT model for sequence classification\u001b[39;00m\n\u001b[1;32m----> <a href='vscode-notebook-cell:/c%3A/Users/arcot/OneDrive/Desktop/MRM-TaskPhase/Final_Project/test.ipynb#W2sZmlsZQ%3D%3D?line=1'>2</a>\u001b[0m model \u001b[39m=\u001b[39m BertForSequenceClassification(num_labels\u001b[39m=\u001b[39;49m\u001b[39m2\u001b[39;49m)  \u001b[39m# Example: binary classification\u001b[39;00m\n\u001b[0;32m      <a href='vscode-notebook-cell:/c%3A/Users/arcot/OneDrive/Desktop/MRM-TaskPhase/Final_Project/test.ipynb#W2sZmlsZQ%3D%3D?line=3'>4</a>\u001b[0m \u001b[39m# Set up optimizer and learning rate scheduler\u001b[39;00m\n\u001b[0;32m      <a href='vscode-notebook-cell:/c%3A/Users/arcot/OneDrive/Desktop/MRM-TaskPhase/Final_Project/test.ipynb#W2sZmlsZQ%3D%3D?line=4'>5</a>\u001b[0m optimizer \u001b[39m=\u001b[39m AdamW(model\u001b[39m.\u001b[39mparameters(), lr\u001b[39m=\u001b[39m\u001b[39m5e-5\u001b[39m)  \u001b[39m# Example learning rate\u001b[39;00m\n",
      "\u001b[1;31mTypeError\u001b[0m: BertForSequenceClassification.__init__() got an unexpected keyword argument 'num_labels'"
     ]
    }
   ],
   "source": [
    "model = BertForSequenceClassification.from_pretrained('bert-base-uncased')\n",
    "\n",
    "# Set up optimizer and learning rate scheduler\n",
    "optimizer = AdamW(model.parameters(), lr=5e-5)  # Example learning rate\n",
    "scheduler = torch.optim.lr_scheduler.StepLR(optimizer, step_size=1, gamma=0.1)\n",
    "\n",
    "# Training loop\n",
    "device = torch.device('cuda' if torch.cuda.is_available() else 'cpu')\n",
    "model.to(device)\n",
    "model.train()"
   ]
  },
  {
   "cell_type": "code",
   "execution_count": 230,
   "metadata": {},
   "outputs": [],
   "source": [
    "df['v1'] = df['v1'].replace({'ham': 0, 'spam': 1})\n"
   ]
  },
  {
   "cell_type": "code",
   "execution_count": 231,
   "metadata": {},
   "outputs": [
    {
     "name": "stdout",
     "output_type": "stream",
     "text": [
      "4825\n",
      "747\n",
      "      v1                                                 v2 Unnamed: 2   \n",
      "1      0                      Ok lar... Joking wif u oni...        NaN  \\\n",
      "2      1  Free entry in 2 a wkly comp to win FA Cup fina...        NaN   \n",
      "5      1  FreeMsg Hey there darling it's been 3 week's n...        NaN   \n",
      "7      0  As per your request 'Melle Melle (Oru Minnamin...        NaN   \n",
      "8      1  WINNER!! As a valued network customer you have...        NaN   \n",
      "...   ..                                                ...        ...   \n",
      "5553   0                        Hahaha..use your brain dear        NaN   \n",
      "5556   0  Yes i have. So that's why u texted. Pshew...mi...        NaN   \n",
      "5563   0                                Ard 6 like dat lor.        NaN   \n",
      "5566   1  REMINDER FROM O2: To get 2.50 pounds free call...        NaN   \n",
      "5567   1  This is the 2nd time we have tried 2 contact u...        NaN   \n",
      "\n",
      "     Unnamed: 3 Unnamed: 4  \n",
      "1           NaN        NaN  \n",
      "2           NaN        NaN  \n",
      "5           NaN        NaN  \n",
      "7           NaN        NaN  \n",
      "8           NaN        NaN  \n",
      "...         ...        ...  \n",
      "5553        NaN        NaN  \n",
      "5556        NaN        NaN  \n",
      "5563        NaN        NaN  \n",
      "5566        NaN        NaN  \n",
      "5567        NaN        NaN  \n",
      "\n",
      "[1494 rows x 5 columns]\n"
     ]
    }
   ],
   "source": [
    "# Count the number of rows for each class\n",
    "class_0_count = (df['v1'] == 0).sum()\n",
    "class_1_count = (df['v1'] == 1).sum()\n",
    "if class_0_count > class_1_count:\n",
    "    class_0_indices = df[df['v1'] == 0].sample(n=class_0_count-class_1_count).index\n",
    "    df = df.drop(class_0_indices)\n",
    "elif class_1_count > class_0_count:\n",
    "    class_1_indices = df[df['v1'] == 1].sample(n=class_1_count-class_0_count).index\n",
    "    df = df.drop(class_1_indices)\n",
    "\n"
   ]
  },
  {
   "cell_type": "code",
   "execution_count": 232,
   "metadata": {},
   "outputs": [
    {
     "name": "stdout",
     "output_type": "stream",
     "text": [
      "747\n"
     ]
    }
   ],
   "source": [
    "print(class_0_count)"
   ]
  },
  {
   "cell_type": "code",
   "execution_count": 233,
   "metadata": {},
   "outputs": [
    {
     "name": "stdout",
     "output_type": "stream",
     "text": [
      "747\n"
     ]
    }
   ],
   "source": [
    "print(class_1_count)"
   ]
  },
  {
   "cell_type": "code",
   "execution_count": null,
   "metadata": {},
   "outputs": [],
   "source": []
  }
 ],
 "metadata": {
  "kernelspec": {
   "display_name": "Python 3",
   "language": "python",
   "name": "python3"
  },
  "language_info": {
   "codemirror_mode": {
    "name": "ipython",
    "version": 3
   },
   "file_extension": ".py",
   "mimetype": "text/x-python",
   "name": "python",
   "nbconvert_exporter": "python",
   "pygments_lexer": "ipython3",
   "version": "3.11.3"
  }
 },
 "nbformat": 4,
 "nbformat_minor": 2
}
